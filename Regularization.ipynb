{
  "cells": [
    {
      "cell_type": "markdown",
      "metadata": {
        "id": "6Y2oAz-bELlu"
      },
      "source": [
        "# **Introduction**"
      ]
    },
    {
      "cell_type": "markdown",
      "metadata": {
        "id": "333JCswHnbQp"
      },
      "source": [
        "In this assignment, you will work with a dataset that includes The Boston housing data was collected in 1978 and each of the 506 entries represent aggregated data about 14 features for homes from various suburbs in Boston, Massachusetts. The target variable of interest in this dataset is the median value of owner-occupied homes (MEDV), which serves as a proxy for the house prices.\n",
        "First, you will start by fitting a basic regression model using scikit-learn (sklearn) to establish a baseline for comparison. This basic regression model will serve as a reference point for evaluating the performance of more sophisticated models incorporating regularization techniques.\n",
        "\n",
        "Furthermore, you will apply L1 (Lasso) and L2 (Ridge) regularization techniques to refine your predictions and evaluate the impact of these methods on the accuracy of your results. Regularization is a technique used to prevent overfitting by adding a penalty term to the loss function, encouraging simpler models with smaller coefficients. L1 regularization (Lasso) encourages sparsity by penalizing the absolute values of coefficients, while L2 regularization (Ridge) penalizes the square of coefficients. By incorporating these regularization techniques, you aim to improve the generalization performance of your regression models and obtain more robust predictions of house prices in the Boston area."
      ]
    },
    {
      "cell_type": "markdown",
      "metadata": {
        "id": "sDDdf9AAoYXt"
      },
      "source": [
        "## Imports"
      ]
    },
    {
      "cell_type": "code",
      "execution_count": 2,
      "metadata": {
        "colab": {
          "base_uri": "https://localhost:8080/"
        },
        "id": "kkjrbInyoRyN",
        "outputId": "d218ba4b-a082-4646-93a9-07036914911e"
      },
      "outputs": [
        {
          "name": "stdout",
          "output_type": "stream",
          "text": [
            "zsh:1: command not found: wget\n"
          ]
        }
      ],
      "source": [
        "import os\n",
        "import pandas\n",
        "from sklearn.linear_model import LinearRegression, Lasso, Ridge\n",
        "from sklearn.metrics import mean_squared_error, r2_score\n",
        "from sklearn.model_selection import train_test_split\n",
        "from sklearn.preprocessing import StandardScaler, PolynomialFeatures\n",
        "import numpy as np\n",
        "import pandas as pd\n",
        "import seaborn as sns\n",
        "from joblib import dump, load\n",
        "from matplotlib import pyplot as plt\n",
        "\n",
        "!wget -O /HousingData.csv \"https://www.dropbox.com/scl/fi/j3rxgrd8l7fgczzhiedlp/new.csv?rlkey=yngaf57gumhtmm3hxffk20qll&dl=0\""
      ]
    },
    {
      "cell_type": "markdown",
      "metadata": {
        "id": "jBpa9AGHEtD7"
      },
      "source": [
        "# Load and Explore"
      ]
    },
    {
      "cell_type": "markdown",
      "metadata": {
        "id": "MFzJZLOxoZDJ"
      },
      "source": [
        "Load the dataset (as a dataframe) using pandas and display the top 5 rows of the dataframe and then check for missing values and impute missing values with mean"
      ]
    },
    {
      "cell_type": "code",
      "execution_count": 3,
      "metadata": {
        "colab": {
          "base_uri": "https://localhost:8080/"
        },
        "id": "lqhABVd2oZYV",
        "outputId": "edd34522-e777-4f2c-b0b8-4e511070e6d2"
      },
      "outputs": [
        {
          "name": "stdout",
          "output_type": "stream",
          "text": [
            "CRIM       0\n",
            "ZN         0\n",
            "INDUS      0\n",
            "CHAS       0\n",
            "NOX        0\n",
            "RM         0\n",
            "AGE        0\n",
            "DIS        0\n",
            "TAX        0\n",
            "PTRATIO    0\n",
            "B          0\n",
            "LSTAT      0\n",
            "MEDV       0\n",
            "dtype: int64\n"
          ]
        }
      ],
      "source": [
        "file_path = './HousingData.csv'\n",
        "# TODO: Load the Dataset and Check for mising values and then impute them with the mean value\n",
        "df = pd.read_csv(file_path)\n",
        "missing_values = df.isnull().sum()\n",
        "print(missing_values)"
      ]
    },
    {
      "cell_type": "code",
      "execution_count": 4,
      "metadata": {},
      "outputs": [],
      "source": [
        "df.fillna(df.mean(), inplace=True)\n",
        "#ولی چیزی عوض نمیشه"
      ]
    },
    {
      "cell_type": "markdown",
      "metadata": {
        "id": "5-Py3iuJoZwi"
      },
      "source": [
        "Get a brief description of the dataset"
      ]
    },
    {
      "cell_type": "code",
      "execution_count": 5,
      "metadata": {
        "colab": {
          "base_uri": "https://localhost:8080/"
        },
        "id": "zThHHTAcoZ_h",
        "outputId": "c6396de2-f136-41b8-ebbf-cb9fddc59d3b"
      },
      "outputs": [
        {
          "data": {
            "text/html": [
              "<div>\n",
              "<style scoped>\n",
              "    .dataframe tbody tr th:only-of-type {\n",
              "        vertical-align: middle;\n",
              "    }\n",
              "\n",
              "    .dataframe tbody tr th {\n",
              "        vertical-align: top;\n",
              "    }\n",
              "\n",
              "    .dataframe thead th {\n",
              "        text-align: right;\n",
              "    }\n",
              "</style>\n",
              "<table border=\"1\" class=\"dataframe\">\n",
              "  <thead>\n",
              "    <tr style=\"text-align: right;\">\n",
              "      <th></th>\n",
              "      <th>CRIM</th>\n",
              "      <th>ZN</th>\n",
              "      <th>INDUS</th>\n",
              "      <th>CHAS</th>\n",
              "      <th>NOX</th>\n",
              "      <th>RM</th>\n",
              "      <th>AGE</th>\n",
              "      <th>DIS</th>\n",
              "      <th>TAX</th>\n",
              "      <th>PTRATIO</th>\n",
              "      <th>B</th>\n",
              "      <th>LSTAT</th>\n",
              "      <th>MEDV</th>\n",
              "    </tr>\n",
              "  </thead>\n",
              "  <tbody>\n",
              "    <tr>\n",
              "      <th>count</th>\n",
              "      <td>506.000000</td>\n",
              "      <td>506.000000</td>\n",
              "      <td>506.000000</td>\n",
              "      <td>506.000000</td>\n",
              "      <td>506.000000</td>\n",
              "      <td>506.000000</td>\n",
              "      <td>506.000000</td>\n",
              "      <td>506.000000</td>\n",
              "      <td>506.000000</td>\n",
              "      <td>506.000000</td>\n",
              "      <td>506.000000</td>\n",
              "      <td>506.000000</td>\n",
              "      <td>506.000000</td>\n",
              "    </tr>\n",
              "    <tr>\n",
              "      <th>mean</th>\n",
              "      <td>3.611874</td>\n",
              "      <td>11.211934</td>\n",
              "      <td>11.083992</td>\n",
              "      <td>0.069959</td>\n",
              "      <td>0.554695</td>\n",
              "      <td>6.284634</td>\n",
              "      <td>68.518519</td>\n",
              "      <td>3.795043</td>\n",
              "      <td>408.237154</td>\n",
              "      <td>18.455534</td>\n",
              "      <td>356.674032</td>\n",
              "      <td>12.715432</td>\n",
              "      <td>22.532806</td>\n",
              "    </tr>\n",
              "    <tr>\n",
              "      <th>std</th>\n",
              "      <td>8.545770</td>\n",
              "      <td>22.921051</td>\n",
              "      <td>6.699165</td>\n",
              "      <td>0.250233</td>\n",
              "      <td>0.115878</td>\n",
              "      <td>0.702617</td>\n",
              "      <td>27.439466</td>\n",
              "      <td>2.105710</td>\n",
              "      <td>168.537116</td>\n",
              "      <td>2.164946</td>\n",
              "      <td>91.294864</td>\n",
              "      <td>7.012739</td>\n",
              "      <td>9.197104</td>\n",
              "    </tr>\n",
              "    <tr>\n",
              "      <th>min</th>\n",
              "      <td>0.006320</td>\n",
              "      <td>0.000000</td>\n",
              "      <td>0.460000</td>\n",
              "      <td>0.000000</td>\n",
              "      <td>0.385000</td>\n",
              "      <td>3.561000</td>\n",
              "      <td>2.900000</td>\n",
              "      <td>1.129600</td>\n",
              "      <td>187.000000</td>\n",
              "      <td>12.600000</td>\n",
              "      <td>0.320000</td>\n",
              "      <td>1.730000</td>\n",
              "      <td>5.000000</td>\n",
              "    </tr>\n",
              "    <tr>\n",
              "      <th>25%</th>\n",
              "      <td>0.083235</td>\n",
              "      <td>0.000000</td>\n",
              "      <td>5.190000</td>\n",
              "      <td>0.000000</td>\n",
              "      <td>0.449000</td>\n",
              "      <td>5.885500</td>\n",
              "      <td>45.925000</td>\n",
              "      <td>2.100175</td>\n",
              "      <td>279.000000</td>\n",
              "      <td>17.400000</td>\n",
              "      <td>375.377500</td>\n",
              "      <td>7.230000</td>\n",
              "      <td>17.025000</td>\n",
              "    </tr>\n",
              "    <tr>\n",
              "      <th>50%</th>\n",
              "      <td>0.290250</td>\n",
              "      <td>0.000000</td>\n",
              "      <td>9.900000</td>\n",
              "      <td>0.000000</td>\n",
              "      <td>0.538000</td>\n",
              "      <td>6.208500</td>\n",
              "      <td>74.450000</td>\n",
              "      <td>3.207450</td>\n",
              "      <td>330.000000</td>\n",
              "      <td>19.050000</td>\n",
              "      <td>391.440000</td>\n",
              "      <td>11.995000</td>\n",
              "      <td>21.200000</td>\n",
              "    </tr>\n",
              "    <tr>\n",
              "      <th>75%</th>\n",
              "      <td>3.611874</td>\n",
              "      <td>11.211934</td>\n",
              "      <td>18.100000</td>\n",
              "      <td>0.000000</td>\n",
              "      <td>0.624000</td>\n",
              "      <td>6.623500</td>\n",
              "      <td>93.575000</td>\n",
              "      <td>5.188425</td>\n",
              "      <td>666.000000</td>\n",
              "      <td>20.200000</td>\n",
              "      <td>396.225000</td>\n",
              "      <td>16.570000</td>\n",
              "      <td>25.000000</td>\n",
              "    </tr>\n",
              "    <tr>\n",
              "      <th>max</th>\n",
              "      <td>88.976200</td>\n",
              "      <td>100.000000</td>\n",
              "      <td>27.740000</td>\n",
              "      <td>1.000000</td>\n",
              "      <td>0.871000</td>\n",
              "      <td>8.780000</td>\n",
              "      <td>100.000000</td>\n",
              "      <td>12.126500</td>\n",
              "      <td>711.000000</td>\n",
              "      <td>22.000000</td>\n",
              "      <td>396.900000</td>\n",
              "      <td>37.970000</td>\n",
              "      <td>50.000000</td>\n",
              "    </tr>\n",
              "  </tbody>\n",
              "</table>\n",
              "</div>"
            ],
            "text/plain": [
              "             CRIM          ZN       INDUS        CHAS         NOX          RM  \\\n",
              "count  506.000000  506.000000  506.000000  506.000000  506.000000  506.000000   \n",
              "mean     3.611874   11.211934   11.083992    0.069959    0.554695    6.284634   \n",
              "std      8.545770   22.921051    6.699165    0.250233    0.115878    0.702617   \n",
              "min      0.006320    0.000000    0.460000    0.000000    0.385000    3.561000   \n",
              "25%      0.083235    0.000000    5.190000    0.000000    0.449000    5.885500   \n",
              "50%      0.290250    0.000000    9.900000    0.000000    0.538000    6.208500   \n",
              "75%      3.611874   11.211934   18.100000    0.000000    0.624000    6.623500   \n",
              "max     88.976200  100.000000   27.740000    1.000000    0.871000    8.780000   \n",
              "\n",
              "              AGE         DIS         TAX     PTRATIO           B       LSTAT  \\\n",
              "count  506.000000  506.000000  506.000000  506.000000  506.000000  506.000000   \n",
              "mean    68.518519    3.795043  408.237154   18.455534  356.674032   12.715432   \n",
              "std     27.439466    2.105710  168.537116    2.164946   91.294864    7.012739   \n",
              "min      2.900000    1.129600  187.000000   12.600000    0.320000    1.730000   \n",
              "25%     45.925000    2.100175  279.000000   17.400000  375.377500    7.230000   \n",
              "50%     74.450000    3.207450  330.000000   19.050000  391.440000   11.995000   \n",
              "75%     93.575000    5.188425  666.000000   20.200000  396.225000   16.570000   \n",
              "max    100.000000   12.126500  711.000000   22.000000  396.900000   37.970000   \n",
              "\n",
              "             MEDV  \n",
              "count  506.000000  \n",
              "mean    22.532806  \n",
              "std      9.197104  \n",
              "min      5.000000  \n",
              "25%     17.025000  \n",
              "50%     21.200000  \n",
              "75%     25.000000  \n",
              "max     50.000000  "
            ]
          },
          "execution_count": 5,
          "metadata": {},
          "output_type": "execute_result"
        }
      ],
      "source": [
        "# TODO: you can use .info() and .description()\n",
        "df.describe()"
      ]
    },
    {
      "cell_type": "code",
      "execution_count": 6,
      "metadata": {},
      "outputs": [
        {
          "name": "stdout",
          "output_type": "stream",
          "text": [
            "<class 'pandas.core.frame.DataFrame'>\n",
            "RangeIndex: 506 entries, 0 to 505\n",
            "Data columns (total 13 columns):\n",
            " #   Column   Non-Null Count  Dtype  \n",
            "---  ------   --------------  -----  \n",
            " 0   CRIM     506 non-null    float64\n",
            " 1   ZN       506 non-null    float64\n",
            " 2   INDUS    506 non-null    float64\n",
            " 3   CHAS     506 non-null    float64\n",
            " 4   NOX      506 non-null    float64\n",
            " 5   RM       506 non-null    float64\n",
            " 6   AGE      506 non-null    float64\n",
            " 7   DIS      506 non-null    float64\n",
            " 8   TAX      506 non-null    int64  \n",
            " 9   PTRATIO  506 non-null    float64\n",
            " 10  B        506 non-null    float64\n",
            " 11  LSTAT    506 non-null    float64\n",
            " 12  MEDV     506 non-null    float64\n",
            "dtypes: float64(12), int64(1)\n",
            "memory usage: 51.5 KB\n"
          ]
        }
      ],
      "source": [
        "df.info()"
      ]
    },
    {
      "cell_type": "markdown",
      "metadata": {
        "id": "gHcKVT_4oabK"
      },
      "source": [
        "Extract only the features from the dataframe by removing the target column and then Convert the new dataframe into a numpy array\n",
        "</br>\n",
        "Note: **Do not remove the previous dataframe.**\n"
      ]
    },
    {
      "cell_type": "markdown",
      "metadata": {
        "id": "VkDUEmURE-Sx"
      },
      "source": [
        "# Preprocessing"
      ]
    },
    {
      "cell_type": "code",
      "execution_count": 7,
      "metadata": {
        "colab": {
          "base_uri": "https://localhost:8080/"
        },
        "id": "FtT8kFoBoajv",
        "outputId": "f97ef7ac-b4d6-4e6c-8465-21f1adface00"
      },
      "outputs": [
        {
          "data": {
            "text/plain": [
              "array([[6.3200e-03, 1.8000e+01, 2.3100e+00, ..., 1.5300e+01, 3.9690e+02,\n",
              "        4.9800e+00],\n",
              "       [2.7310e-02, 0.0000e+00, 7.0700e+00, ..., 1.7800e+01, 3.9690e+02,\n",
              "        9.1400e+00],\n",
              "       [2.7290e-02, 0.0000e+00, 7.0700e+00, ..., 1.7800e+01, 3.9283e+02,\n",
              "        4.0300e+00],\n",
              "       ...,\n",
              "       [6.0760e-02, 0.0000e+00, 1.1930e+01, ..., 2.1000e+01, 3.9690e+02,\n",
              "        5.6400e+00],\n",
              "       [1.0959e-01, 0.0000e+00, 1.1930e+01, ..., 2.1000e+01, 3.9345e+02,\n",
              "        6.4800e+00],\n",
              "       [4.7410e-02, 0.0000e+00, 1.1930e+01, ..., 2.1000e+01, 3.9690e+02,\n",
              "        7.8800e+00]])"
            ]
          },
          "execution_count": 7,
          "metadata": {},
          "output_type": "execute_result"
        }
      ],
      "source": [
        "# TODO: drop MEDV and convert to numpy array\n",
        "X = df.drop(columns=['MEDV'])\n",
        "X_array = X.values\n",
        "X_array"
      ]
    },
    {
      "cell_type": "markdown",
      "metadata": {
        "id": "forjBjgQHDz0"
      },
      "source": [
        "look for outliers using box plot and if There are some outliers in data, use StandardScaler can help in scaling data."
      ]
    },
    {
      "cell_type": "code",
      "execution_count": 10,
      "metadata": {
        "id": "fJVP9gGnFHbM"
      },
      "outputs": [
        {
          "data": {
            "text/plain": [
              "<Axes: >"
            ]
          },
          "execution_count": 10,
          "metadata": {},
          "output_type": "execute_result"
        },
        {
          "data": {
            "image/png": "[encoded data removed]",
            "text/plain": [
              "<Figure size 1200x800 with 1 Axes>"
            ]
          },
          "metadata": {},
          "output_type": "display_data"
        }
      ],
      "source": [
        "plt.figure(figsize=(12, 8))\n",
        "sns.boxplot(df)"
      ]
    },
    {
      "cell_type": "code",
      "execution_count": 11,
      "metadata": {},
      "outputs": [],
      "source": [
        "scaler = StandardScaler()\n",
        "X_scaled = scaler.fit_transform(X_array)"
      ]
    },
    {
      "cell_type": "markdown",
      "metadata": {
        "id": "mLfX6ugX3fNM"
      },
      "source": [
        "add polynomial features to increase model complexity!"
      ]
    },
    {
      "cell_type": "code",
      "execution_count": 12,
      "metadata": {
        "id": "rkEQ02jU3fXj"
      },
      "outputs": [],
      "source": [
        "degree = 2 \n",
        "poly_features = PolynomialFeatures(degree=degree)\n",
        "X_poly = poly_features.fit_transform(X_scaled)"
      ]
    },
    {
      "cell_type": "markdown",
      "metadata": {
        "id": "8_TZ52zNoatM"
      },
      "source": [
        "Extract the target column from the previously mentioned DataFrame and transform it into a new NumPy array, named y."
      ]
    },
    {
      "cell_type": "code",
      "execution_count": 13,
      "metadata": {
        "colab": {
          "base_uri": "https://localhost:8080/"
        },
        "id": "lzDxTUBFoa4I",
        "outputId": "91c7973e-8d77-46b0-a80d-259a22bc8e89"
      },
      "outputs": [],
      "source": [
        "# TODO: extract the MEDV\n",
        "y = df['MEDV']\n",
        "y_array = y.values"
      ]
    },
    {
      "cell_type": "markdown",
      "metadata": {
        "id": "6zVgga7tobBP"
      },
      "source": [
        "\n",
        "\n",
        "Split the dataset into two parts such that the training set contains 80% of the samples."
      ]
    },
    {
      "cell_type": "code",
      "execution_count": 14,
      "metadata": {
        "id": "2LGiy-8LobKh"
      },
      "outputs": [],
      "source": [
        "# TODO: Split the dataset into two parts such that the training set contains 80% of the samples.\n",
        "X_train, X_test, y_train, y_test = train_test_split(X_poly, y_array, test_size=0.2, random_state=42)"
      ]
    },
    {
      "cell_type": "markdown",
      "metadata": {
        "id": "s-rejkt9FHTj"
      },
      "source": [
        "# Training"
      ]
    },
    {
      "cell_type": "markdown",
      "metadata": {
        "id": "_qoiRXLOv25z"
      },
      "source": [
        "\n",
        "Fit a linear regressor to the data. (Use sklearn)\n"
      ]
    },
    {
      "cell_type": "code",
      "execution_count": 15,
      "metadata": {
        "colab": {
          "base_uri": "https://localhost:8080/",
          "height": 75
        },
        "id": "jWvwdl-Iv3FF",
        "outputId": "e04d3313-9c29-49b4-a947-f0233d77bfe2"
      },
      "outputs": [
        {
          "data": {
            "text/html": [
              "<style>#sk-container-id-1 {\n",
              "  /* Definition of color scheme common for light and dark mode */\n",
              "  --sklearn-color-text: black;\n",
              "  --sklearn-color-line: gray;\n",
              "  /* Definition of color scheme for unfitted estimators */\n",
              "  --sklearn-color-unfitted-level-0: #fff5e6;\n",
              "  --sklearn-color-unfitted-level-1: #f6e4d2;\n",
              "  --sklearn-color-unfitted-level-2: #ffe0b3;\n",
              "  --sklearn-color-unfitted-level-3: chocolate;\n",
              "  /* Definition of color scheme for fitted estimators */\n",
              "  --sklearn-color-fitted-level-0: #f0f8ff;\n",
              "  --sklearn-color-fitted-level-1: #d4ebff;\n",
              "  --sklearn-color-fitted-level-2: #b3dbfd;\n",
              "  --sklearn-color-fitted-level-3: cornflowerblue;\n",
              "\n",
              "  /* Specific color for light theme */\n",
              "  --sklearn-color-text-on-default-background: var(--sg-text-color, var(--theme-code-foreground, var(--jp-content-font-color1, black)));\n",
              "  --sklearn-color-background: var(--sg-background-color, var(--theme-background, var(--jp-layout-color0, white)));\n",
              "  --sklearn-color-border-box: var(--sg-text-color, var(--theme-code-foreground, var(--jp-content-font-color1, black)));\n",
              "  --sklearn-color-icon: #696969;\n",
              "\n",
              "  @media (prefers-color-scheme: dark) {\n",
              "    /* Redefinition of color scheme for dark theme */\n",
              "    --sklearn-color-text-on-default-background: var(--sg-text-color, var(--theme-code-foreground, var(--jp-content-font-color1, white)));\n",
              "    --sklearn-color-background: var(--sg-background-color, var(--theme-background, var(--jp-layout-color0, #111)));\n",
              "    --sklearn-color-border-box: var(--sg-text-color, var(--theme-code-foreground, var(--jp-content-font-color1, white)));\n",
              "    --sklearn-color-icon: #878787;\n",
              "  }\n",
              "}\n",
              "\n",
              "#sk-container-id-1 {\n",
              "  color: var(--sklearn-color-text);\n",
              "}\n",
              "\n",
              "#sk-container-id-1 pre {\n",
              "  padding: 0;\n",
              "}\n",
              "\n",
              "#sk-container-id-1 input.sk-hidden--visually {\n",
              "  border: 0;\n",
              "  clip: rect(1px 1px 1px 1px);\n",
              "  clip: rect(1px, 1px, 1px, 1px);\n",
              "  height: 1px;\n",
              "  margin: -1px;\n",
              "  overflow: hidden;\n",
              "  padding: 0;\n",
              "  position: absolute;\n",
              "  width: 1px;\n",
              "}\n",
              "\n",
              "#sk-container-id-1 div.sk-dashed-wrapped {\n",
              "  border: 1px dashed var(--sklearn-color-line);\n",
              "  margin: 0 0.4em 0.5em 0.4em;\n",
              "  box-sizing: border-box;\n",
              "  padding-bottom: 0.4em;\n",
              "  background-color: var(--sklearn-color-background);\n",
              "}\n",
              "\n",
              "#sk-container-id-1 div.sk-container {\n",
              "  /* jupyter's `normalize.less` sets `[hidden] { display: none; }`\n",
              "     but bootstrap.min.css set `[hidden] { display: none !important; }`\n",
              "     so we also need the `!important` here to be able to override the\n",
              "     default hidden behavior on the sphinx rendered scikit-learn.org.\n",
              "     See: https://github.com/scikit-learn/scikit-learn/issues/21755 */\n",
              "  display: inline-block !important;\n",
              "  position: relative;\n",
              "}\n",
              "\n",
              "#sk-container-id-1 div.sk-text-repr-fallback {\n",
              "  display: none;\n",
              "}\n",
              "\n",
              "div.sk-parallel-item,\n",
              "div.sk-serial,\n",
              "div.sk-item {\n",
              "  /* draw centered vertical line to link estimators */\n",
              "  background-image: linear-gradient(var(--sklearn-color-text-on-default-background), var(--sklearn-color-text-on-default-background));\n",
              "  background-size: 2px 100%;\n",
              "  background-repeat: no-repeat;\n",
              "  background-position: center center;\n",
              "}\n",
              "\n",
              "/* Parallel-specific style estimator block */\n",
              "\n",
              "#sk-container-id-1 div.sk-parallel-item::after {\n",
              "  content: \"\";\n",
              "  width: 100%;\n",
              "  border-bottom: 2px solid var(--sklearn-color-text-on-default-background);\n",
              "  flex-grow: 1;\n",
              "}\n",
              "\n",
              "#sk-container-id-1 div.sk-parallel {\n",
              "  display: flex;\n",
              "  align-items: stretch;\n",
              "  justify-content: center;\n",
              "  background-color: var(--sklearn-color-background);\n",
              "  position: relative;\n",
              "}\n",
              "\n",
              "#sk-container-id-1 div.sk-parallel-item {\n",
              "  display: flex;\n",
              "  flex-direction: column;\n",
              "}\n",
              "\n",
              "#sk-container-id-1 div.sk-parallel-item:first-child::after {\n",
              "  align-self: flex-end;\n",
              "  width: 50%;\n",
              "}\n",
              "\n",
              "#sk-container-id-1 div.sk-parallel-item:last-child::after {\n",
              "  align-self: flex-start;\n",
              "  width: 50%;\n",
              "}\n",
              "\n",
              "#sk-container-id-1 div.sk-parallel-item:only-child::after {\n",
              "  width: 0;\n",
              "}\n",
              "\n",
              "/* Serial-specific style estimator block */\n",
              "\n",
              "#sk-container-id-1 div.sk-serial {\n",
              "  display: flex;\n",
              "  flex-direction: column;\n",
              "  align-items: center;\n",
              "  background-color: var(--sklearn-color-background);\n",
              "  padding-right: 1em;\n",
              "  padding-left: 1em;\n",
              "}\n",
              "\n",
              "\n",
              "/* Toggleable style: style used for estimator/Pipeline/ColumnTransformer box that is\n",
              "clickable and can be expanded/collapsed.\n",
              "- Pipeline and ColumnTransformer use this feature and define the default style\n",
              "- Estimators will overwrite some part of the style using the `sk-estimator` class\n",
              "*/\n",
              "\n",
              "/* Pipeline and ColumnTransformer style (default) */\n",
              "\n",
              "#sk-container-id-1 div.sk-toggleable {\n",
              "  /* Default theme specific background. It is overwritten whether we have a\n",
              "  specific estimator or a Pipeline/ColumnTransformer */\n",
              "  background-color: var(--sklearn-color-background);\n",
              "}\n",
              "\n",
              "/* Toggleable label */\n",
              "#sk-container-id-1 label.sk-toggleable__label {\n",
              "  cursor: pointer;\n",
              "  display: block;\n",
              "  width: 100%;\n",
              "  margin-bottom: 0;\n",
              "  padding: 0.5em;\n",
              "  box-sizing: border-box;\n",
              "  text-align: center;\n",
              "}\n",
              "\n",
              "#sk-container-id-1 label.sk-toggleable__label-arrow:before {\n",
              "  /* Arrow on the left of the label */\n",
              "  content: \"▸\";\n",
              "  float: left;\n",
              "  margin-right: 0.25em;\n",
              "  color: var(--sklearn-color-icon);\n",
              "}\n",
              "\n",
              "#sk-container-id-1 label.sk-toggleable__label-arrow:hover:before {\n",
              "  color: var(--sklearn-color-text);\n",
              "}\n",
              "\n",
              "/* Toggleable content - dropdown */\n",
              "\n",
              "#sk-container-id-1 div.sk-toggleable__content {\n",
              "  max-height: 0;\n",
              "  max-width: 0;\n",
              "  overflow: hidden;\n",
              "  text-align: left;\n",
              "  /* unfitted */\n",
              "  background-color: var(--sklearn-color-unfitted-level-0);\n",
              "}\n",
              "\n",
              "#sk-container-id-1 div.sk-toggleable__content.fitted {\n",
              "  /* fitted */\n",
              "  background-color: var(--sklearn-color-fitted-level-0);\n",
              "}\n",
              "\n",
              "#sk-container-id-1 div.sk-toggleable__content pre {\n",
              "  margin: 0.2em;\n",
              "  border-radius: 0.25em;\n",
              "  color: var(--sklearn-color-text);\n",
              "  /* unfitted */\n",
              "  background-color: var(--sklearn-color-unfitted-level-0);\n",
              "}\n",
              "\n",
              "#sk-container-id-1 div.sk-toggleable__content.fitted pre {\n",
              "  /* unfitted */\n",
              "  background-color: var(--sklearn-color-fitted-level-0);\n",
              "}\n",
              "\n",
              "#sk-container-id-1 input.sk-toggleable__control:checked~div.sk-toggleable__content {\n",
              "  /* Expand drop-down */\n",
              "  max-height: 200px;\n",
              "  max-width: 100%;\n",
              "  overflow: auto;\n",
              "}\n",
              "\n",
              "#sk-container-id-1 input.sk-toggleable__control:checked~label.sk-toggleable__label-arrow:before {\n",
              "  content: \"▾\";\n",
              "}\n",
              "\n",
              "/* Pipeline/ColumnTransformer-specific style */\n",
              "\n",
              "#sk-container-id-1 div.sk-label input.sk-toggleable__control:checked~label.sk-toggleable__label {\n",
              "  color: var(--sklearn-color-text);\n",
              "  background-color: var(--sklearn-color-unfitted-level-2);\n",
              "}\n",
              "\n",
              "#sk-container-id-1 div.sk-label.fitted input.sk-toggleable__control:checked~label.sk-toggleable__label {\n",
              "  background-color: var(--sklearn-color-fitted-level-2);\n",
              "}\n",
              "\n",
              "/* Estimator-specific style */\n",
              "\n",
              "/* Colorize estimator box */\n",
              "#sk-container-id-1 div.sk-estimator input.sk-toggleable__control:checked~label.sk-toggleable__label {\n",
              "  /* unfitted */\n",
              "  background-color: var(--sklearn-color-unfitted-level-2);\n",
              "}\n",
              "\n",
              "#sk-container-id-1 div.sk-estimator.fitted input.sk-toggleable__control:checked~label.sk-toggleable__label {\n",
              "  /* fitted */\n",
              "  background-color: var(--sklearn-color-fitted-level-2);\n",
              "}\n",
              "\n",
              "#sk-container-id-1 div.sk-label label.sk-toggleable__label,\n",
              "#sk-container-id-1 div.sk-label label {\n",
              "  /* The background is the default theme color */\n",
              "  color: var(--sklearn-color-text-on-default-background);\n",
              "}\n",
              "\n",
              "/* On hover, darken the color of the background */\n",
              "#sk-container-id-1 div.sk-label:hover label.sk-toggleable__label {\n",
              "  color: var(--sklearn-color-text);\n",
              "  background-color: var(--sklearn-color-unfitted-level-2);\n",
              "}\n",
              "\n",
              "/* Label box, darken color on hover, fitted */\n",
              "#sk-container-id-1 div.sk-label.fitted:hover label.sk-toggleable__label.fitted {\n",
              "  color: var(--sklearn-color-text);\n",
              "  background-color: var(--sklearn-color-fitted-level-2);\n",
              "}\n",
              "\n",
              "/* Estimator label */\n",
              "\n",
              "#sk-container-id-1 div.sk-label label {\n",
              "  font-family: monospace;\n",
              "  font-weight: bold;\n",
              "  display: inline-block;\n",
              "  line-height: 1.2em;\n",
              "}\n",
              "\n",
              "#sk-container-id-1 div.sk-label-container {\n",
              "  text-align: center;\n",
              "}\n",
              "\n",
              "/* Estimator-specific */\n",
              "#sk-container-id-1 div.sk-estimator {\n",
              "  font-family: monospace;\n",
              "  border: 1px dotted var(--sklearn-color-border-box);\n",
              "  border-radius: 0.25em;\n",
              "  box-sizing: border-box;\n",
              "  margin-bottom: 0.5em;\n",
              "  /* unfitted */\n",
              "  background-color: var(--sklearn-color-unfitted-level-0);\n",
              "}\n",
              "\n",
              "#sk-container-id-1 div.sk-estimator.fitted {\n",
              "  /* fitted */\n",
              "  background-color: var(--sklearn-color-fitted-level-0);\n",
              "}\n",
              "\n",
              "/* on hover */\n",
              "#sk-container-id-1 div.sk-estimator:hover {\n",
              "  /* unfitted */\n",
              "  background-color: var(--sklearn-color-unfitted-level-2);\n",
              "}\n",
              "\n",
              "#sk-container-id-1 div.sk-estimator.fitted:hover {\n",
              "  /* fitted */\n",
              "  background-color: var(--sklearn-color-fitted-level-2);\n",
              "}\n",
              "\n",
              "/* Specification for estimator info (e.g. \"i\" and \"?\") */\n",
              "\n",
              "/* Common style for \"i\" and \"?\" */\n",
              "\n",
              ".sk-estimator-doc-link,\n",
              "a:link.sk-estimator-doc-link,\n",
              "a:visited.sk-estimator-doc-link {\n",
              "  float: right;\n",
              "  font-size: smaller;\n",
              "  line-height: 1em;\n",
              "  font-family: monospace;\n",
              "  background-color: var(--sklearn-color-background);\n",
              "  border-radius: 1em;\n",
              "  height: 1em;\n",
              "  width: 1em;\n",
              "  text-decoration: none !important;\n",
              "  margin-left: 1ex;\n",
              "  /* unfitted */\n",
              "  border: var(--sklearn-color-unfitted-level-1) 1pt solid;\n",
              "  color: var(--sklearn-color-unfitted-level-1);\n",
              "}\n",
              "\n",
              ".sk-estimator-doc-link.fitted,\n",
              "a:link.sk-estimator-doc-link.fitted,\n",
              "a:visited.sk-estimator-doc-link.fitted {\n",
              "  /* fitted */\n",
              "  border: var(--sklearn-color-fitted-level-1) 1pt solid;\n",
              "  color: var(--sklearn-color-fitted-level-1);\n",
              "}\n",
              "\n",
              "/* On hover */\n",
              "div.sk-estimator:hover .sk-estimator-doc-link:hover,\n",
              ".sk-estimator-doc-link:hover,\n",
              "div.sk-label-container:hover .sk-estimator-doc-link:hover,\n",
              ".sk-estimator-doc-link:hover {\n",
              "  /* unfitted */\n",
              "  background-color: var(--sklearn-color-unfitted-level-3);\n",
              "  color: var(--sklearn-color-background);\n",
              "  text-decoration: none;\n",
              "}\n",
              "\n",
              "div.sk-estimator.fitted:hover .sk-estimator-doc-link.fitted:hover,\n",
              ".sk-estimator-doc-link.fitted:hover,\n",
              "div.sk-label-container:hover .sk-estimator-doc-link.fitted:hover,\n",
              ".sk-estimator-doc-link.fitted:hover {\n",
              "  /* fitted */\n",
              "  background-color: var(--sklearn-color-fitted-level-3);\n",
              "  color: var(--sklearn-color-background);\n",
              "  text-decoration: none;\n",
              "}\n",
              "\n",
              "/* Span, style for the box shown on hovering the info icon */\n",
              ".sk-estimator-doc-link span {\n",
              "  display: none;\n",
              "  z-index: 9999;\n",
              "  position: relative;\n",
              "  font-weight: normal;\n",
              "  right: .2ex;\n",
              "  padding: .5ex;\n",
              "  margin: .5ex;\n",
              "  width: min-content;\n",
              "  min-width: 20ex;\n",
              "  max-width: 50ex;\n",
              "  color: var(--sklearn-color-text);\n",
              "  box-shadow: 2pt 2pt 4pt #999;\n",
              "  /* unfitted */\n",
              "  background: var(--sklearn-color-unfitted-level-0);\n",
              "  border: .5pt solid var(--sklearn-color-unfitted-level-3);\n",
              "}\n",
              "\n",
              ".sk-estimator-doc-link.fitted span {\n",
              "  /* fitted */\n",
              "  background: var(--sklearn-color-fitted-level-0);\n",
              "  border: var(--sklearn-color-fitted-level-3);\n",
              "}\n",
              "\n",
              ".sk-estimator-doc-link:hover span {\n",
              "  display: block;\n",
              "}\n",
              "\n",
              "/* \"?\"-specific style due to the `<a>` HTML tag */\n",
              "\n",
              "#sk-container-id-1 a.estimator_doc_link {\n",
              "  float: right;\n",
              "  font-size: 1rem;\n",
              "  line-height: 1em;\n",
              "  font-family: monospace;\n",
              "  background-color: var(--sklearn-color-background);\n",
              "  border-radius: 1rem;\n",
              "  height: 1rem;\n",
              "  width: 1rem;\n",
              "  text-decoration: none;\n",
              "  /* unfitted */\n",
              "  color: var(--sklearn-color-unfitted-level-1);\n",
              "  border: var(--sklearn-color-unfitted-level-1) 1pt solid;\n",
              "}\n",
              "\n",
              "#sk-container-id-1 a.estimator_doc_link.fitted {\n",
              "  /* fitted */\n",
              "  border: var(--sklearn-color-fitted-level-1) 1pt solid;\n",
              "  color: var(--sklearn-color-fitted-level-1);\n",
              "}\n",
              "\n",
              "/* On hover */\n",
              "#sk-container-id-1 a.estimator_doc_link:hover {\n",
              "  /* unfitted */\n",
              "  background-color: var(--sklearn-color-unfitted-level-3);\n",
              "  color: var(--sklearn-color-background);\n",
              "  text-decoration: none;\n",
              "}\n",
              "\n",
              "#sk-container-id-1 a.estimator_doc_link.fitted:hover {\n",
              "  /* fitted */\n",
              "  background-color: var(--sklearn-color-fitted-level-3);\n",
              "}\n",
              "</style><div id=\"sk-container-id-1\" class=\"sk-top-container\"><div class=\"sk-text-repr-fallback\"><pre>LinearRegression()</pre><b>In a Jupyter environment, please rerun this cell to show the HTML representation or trust the notebook. <br />On GitHub, the HTML representation is unable to render, please try loading this page with nbviewer.org.</b></div><div class=\"sk-container\" hidden><div class=\"sk-item\"><div class=\"sk-estimator fitted sk-toggleable\"><input class=\"sk-toggleable__control sk-hidden--visually\" id=\"sk-estimator-id-1\" type=\"checkbox\" checked><label for=\"sk-estimator-id-1\" class=\"sk-toggleable__label fitted sk-toggleable__label-arrow fitted\">&nbsp;&nbsp;LinearRegression<a class=\"sk-estimator-doc-link fitted\" rel=\"noreferrer\" target=\"_blank\" href=\"https://scikit-learn.org/1.4/modules/generated/sklearn.linear_model.LinearRegression.html\">?<span>Documentation for LinearRegression</span></a><span class=\"sk-estimator-doc-link fitted\">i<span>Fitted</span></span></label><div class=\"sk-toggleable__content fitted\"><pre>LinearRegression()</pre></div> </div></div></div></div>"
            ],
            "text/plain": [
              "LinearRegression()"
            ]
          },
          "execution_count": 15,
          "metadata": {},
          "output_type": "execute_result"
        }
      ],
      "source": [
        "# TODO: Use sklearn\n",
        "linear_regressor = LinearRegression()\n",
        "linear_regressor.fit(X_train, y_train)"
      ]
    },
    {
      "cell_type": "markdown",
      "metadata": {
        "id": "8ytvTJ60v3Oq"
      },
      "source": [
        "Get the coefficients of the variables and visualize it"
      ]
    },
    {
      "cell_type": "code",
      "execution_count": 16,
      "metadata": {
        "colab": {
          "base_uri": "https://localhost:8080/",
          "height": 748
        },
        "id": "Lh9C3xihv3X3",
        "outputId": "0e966ec2-f435-455f-dc8f-71cbeeadcb6e"
      },
      "outputs": [
        {
          "name": "stdout",
          "output_type": "stream",
          "text": [
            "[ 6.71326437e-15  2.61543210e+00  8.23937159e-01  2.71362629e-01\n",
            " -3.48211983e+00 -1.29409137e+00  3.44585661e+00 -1.21943076e+00\n",
            " -1.81707978e+00 -1.35705037e+00 -7.62724086e-01  9.41284776e-02\n",
            " -3.26790109e+00  1.88815533e-01 -2.12293611e+00  3.27201664e+00\n",
            "  2.99592944e+00 -2.33583776e+00  3.47631370e-01  2.08741825e-01\n",
            "  2.21883471e+00 -2.33322440e+00 -2.04447912e+00  7.41756805e-03\n",
            "  1.19322150e+00 -8.41126027e-02  1.01385910e-01  2.74709658e-01\n",
            " -2.78021092e+00 -1.52798130e-01  7.61588328e-01 -1.08630659e+00\n",
            "  2.97124880e+00 -2.68640233e-01 -3.02213841e+00 -1.60704564e+00\n",
            "  1.31321171e+00 -3.11014224e-01 -5.10197825e-01  1.28252455e+00\n",
            "  1.32809034e+00  1.38205448e+00 -6.50905063e-01 -1.06080996e+00\n",
            "  7.72225398e-01 -5.06351131e-01  1.37177961e+00 -1.08949576e+00\n",
            " -9.50138209e-01 -4.45437289e-01 -1.69626905e+00  5.47158139e-01\n",
            " -1.88581634e-01  6.91851939e-03 -4.71226094e-01 -3.79170284e-01\n",
            " -1.24093403e+00  3.76740641e-01  3.63408849e+00  1.95669949e+00\n",
            " -2.07628197e+00 -4.87583740e-01  5.33153600e-01  7.34804882e-01\n",
            " -4.76720613e-01  1.44799894e-01 -2.03085847e+00 -1.18219970e+00\n",
            " -4.62944660e-01  6.96661663e-01  6.21445264e-02  4.35302992e-01\n",
            " -6.72892447e-01  3.72240181e-01 -1.12519132e+00 -1.17650773e+00\n",
            "  2.24180978e+00 -2.15987726e+00 -5.33156830e-01  4.42541174e-01\n",
            "  7.40739848e-01 -1.18015450e-01  4.20887909e+00 -1.01095438e+00\n",
            " -2.48662060e+00 -4.86518994e-01  1.04890851e-01  7.61631914e-02\n",
            " -3.29742779e-01  1.63160538e-01  1.40255420e+00]\n"
          ]
        },
        {
          "name": "stderr",
          "output_type": "stream",
          "text": [
            "/var/folders/px/x_b_92z578x2bzvgv8br00hm0000gn/T/ipykernel_31768/1063339910.py:4: FutureWarning: \n",
            "\n",
            "Passing `palette` without assigning `hue` is deprecated and will be removed in v0.14.0. Assign the `x` variable to `hue` and set `legend=False` for the same effect.\n",
            "\n",
            "  sns.barplot(x=range(len(coefficients)), y=coefficients, palette='viridis')\n"
          ]
        },
        {
          "data": {
            "text/plain": [
              "<Axes: >"
            ]
          },
          "execution_count": 16,
          "metadata": {},
          "output_type": "execute_result"
        },
        {
          "data": {
            "image/png": "[encoded data removed]",
            "text/plain": [
              "<Figure size 1200x800 with 1 Axes>"
            ]
          },
          "metadata": {},
          "output_type": "display_data"
        }
      ],
      "source": [
        "coefficients = linear_regressor.coef_\n",
        "print(coefficients)\n",
        "plt.figure(figsize=(12, 8))\n",
        "sns.barplot(x=range(len(coefficients)), y=coefficients, palette='viridis')"
      ]
    },
    {
      "cell_type": "markdown",
      "metadata": {
        "id": "eTCcA4W8v3f4"
      },
      "source": [
        "Get the score value of sklearn regressor on train dataset</br>\n",
        "if you are not familiar with R-squared concept see the link below:\n",
        "[R-squared](https://statisticsbyjim.com/regression/interpret-r-squared-regression/)\n",
        "\n"
      ]
    },
    {
      "cell_type": "code",
      "execution_count": 35,
      "metadata": {
        "colab": {
          "base_uri": "https://localhost:8080/"
        },
        "id": "onAXRIl7v3qJ",
        "outputId": "38ef1164-840d-4446-906b-53f8707d8f75"
      },
      "outputs": [
        {
          "name": "stdout",
          "output_type": "stream",
          "text": [
            "R² score: 0.9233615957926449\n",
            "Mean Squared Error: 6.65783903781899\n"
          ]
        }
      ],
      "source": [
        "# TODO: Calculate R² score and MSE on the training dataset\n",
        "y_train_pred = linear_regressor.predict(X_train)\n",
        "r2_train = r2_score(y_train, y_train_pred)\n",
        "mse_train = mean_squared_error(y_train, y_train_pred)\n",
        "print(\"R² score:\", r2_train)\n",
        "print(\"Mean Squared Error:\", mse_train)"
      ]
    },
    {
      "cell_type": "markdown",
      "metadata": {
        "id": "RXBvLGMcwpbT"
      },
      "source": [
        "Predict the value of \"y\" for each \"x\" belonging to the \"testing\" set"
      ]
    },
    {
      "cell_type": "code",
      "execution_count": 36,
      "metadata": {
        "id": "bA_DNqeKwprp"
      },
      "outputs": [
        {
          "data": {
            "text/plain": [
              "array([26.60760472, 39.62214268, 18.71401934, 21.00627478, 15.36932115,\n",
              "       18.14967249, 19.2680689 , 14.04520907, 20.41411804, 19.68358046,\n",
              "       19.34721612, 17.80080883,  9.52923494, 17.56130221, 17.61765281,\n",
              "       23.1886407 , 19.83784911,  9.82571722, 48.00938013, 13.01200313,\n",
              "       24.67113881, 28.75366122, 15.14797668, 19.48768303, 16.8711114 ,\n",
              "       16.54597743, 17.07120558, 13.34377675, 16.66485127, 19.34855953,\n",
              "       18.50229727, 23.95889069, 15.48239335, 25.70102382, 13.69224402,\n",
              "       17.48588361, 33.1589375 , 20.10130817, 20.24277819, 21.68697931,\n",
              "       16.91569466, 31.33039866, 53.78155342, 15.35787882, 27.30502419,\n",
              "       15.90970181, 14.76748839, 23.49841731, 17.57527936, 29.19894908,\n",
              "       19.95253249, 33.61207695, 17.02933983, 26.86934524, 44.01327048,\n",
              "       23.0722288 , 13.43102214, 32.42020215, 25.15187612, 12.20309801,\n",
              "       25.03914004, 29.01333968, 31.99975955, 14.25741358, 27.2478974 ,\n",
              "       13.81980117, 14.35877776, 24.56841459, 29.12596225, 12.07120755,\n",
              "       21.52505912, 27.39851469,  9.60239834, 22.99803726, 19.8464662 ,\n",
              "        7.55139317, 22.13069349, 49.95089019, 11.35178549, 11.98183645,\n",
              "       18.34848076, 12.31262512, 15.91992994, 11.17875652, 20.05758709,\n",
              "       28.21017905, 17.52432039, 24.64183624, 25.95216955, 18.86643395,\n",
              "       24.91833318,  7.26540165, 20.04649013, 17.38110339, 44.76506329,\n",
              "       20.87525411, 25.80390969,  5.75854824, 11.00494177, 15.63482602,\n",
              "       23.13270522, 20.58824762])"
            ]
          },
          "execution_count": 36,
          "metadata": {},
          "output_type": "execute_result"
        }
      ],
      "source": [
        "y_test_pred = linear_regressor.predict(X_test)\n",
        "y_test_pred"
      ]
    },
    {
      "cell_type": "markdown",
      "metadata": {
        "id": "z_aF3pNEFP79"
      },
      "source": [
        "# Lasso Regularization(L1)"
      ]
    },
    {
      "cell_type": "markdown",
      "metadata": {
        "id": "PPMTy_D_wp-X"
      },
      "source": [
        "L1 regularization, also known as Lasso (Least Absolute Shrinkage and Selection Operator) regularization, is a technique used in regression models that encourages simplicity and sparsity in the model coefficients. This is achieved by adding a penalty equal to the absolute value of the magnitude of coefficients to the loss function.\\\n",
        "</br>\n",
        "Train a regression model using L1 regularization."
      ]
    },
    {
      "cell_type": "code",
      "execution_count": 38,
      "metadata": {
        "colab": {
          "base_uri": "https://localhost:8080/",
          "height": 75
        },
        "id": "SHr5JR4fwqHO",
        "outputId": "b923d4b7-3f37-46a1-edd9-872da51e1cb1"
      },
      "outputs": [
        {
          "name": "stdout",
          "output_type": "stream",
          "text": [
            "R² score: 0.778718266278262\n",
            "Mean Squared Error: 16.227426678090257\n"
          ]
        }
      ],
      "source": [
        "# TODO: Use Lasso from sklearn library\n",
        "lasso_regressor = Lasso(alpha=0.5)\n",
        "lasso_regressor.fit(X_train, y_train)\n",
        "y_test_pred_lasso = lasso_regressor.predict(X_test)\n",
        "r2_test_lasso = r2_score(y_test, y_test_pred_lasso)\n",
        "mse_test_lasso = mean_squared_error(y_test, y_test_pred_lasso)\n",
        "print(\"R² score:\", r2_test_lasso)\n",
        "print(\"Mean Squared Error:\", mse_test_lasso)"
      ]
    },
    {
      "cell_type": "markdown",
      "metadata": {
        "id": "du892nvjwqPi"
      },
      "source": [
        "Get the coefficients of the variables and visualize it."
      ]
    },
    {
      "cell_type": "code",
      "execution_count": 39,
      "metadata": {
        "colab": {
          "base_uri": "https://localhost:8080/",
          "height": 748
        },
        "id": "W-yiCdq1wqcn",
        "outputId": "ef30ac28-35bb-41ba-bcd3-520d5ef264f8"
      },
      "outputs": [
        {
          "name": "stdout",
          "output_type": "stream",
          "text": [
            "[ 0.         -0.          0.         -0.          0.         -0.\n",
            "  2.71044561 -0.         -0.         -0.17551806 -0.87919831  0.\n",
            " -3.61571562 -0.09172222  0.         -0.          0.         -0.\n",
            "  0.         -0.          0.         -0.         -0.         -0.\n",
            " -0.          0.          0.          0.          0.          0.\n",
            " -0.         -0.          0.          0.         -0.         -0.\n",
            "  0.          0.         -0.         -0.          0.          0.\n",
            "  0.         -0.          0.         -0.          0.21657471 -0.\n",
            " -0.          0.         -0.          0.09712834  0.          0.\n",
            " -0.         -0.20798319 -0.1485112  -0.          0.         -0.\n",
            " -0.          0.         -0.          0.7562266  -0.          0.\n",
            " -0.85199921 -0.59720675  0.         -0.          0.          0.\n",
            " -0.         -0.         -0.         -0.         -0.          0.\n",
            "  0.         -0.          0.26961623  0.          0.         -0.\n",
            " -0.8353172   0.         -0.         -0.         -0.24304235 -0.\n",
            "  0.46962857]\n"
          ]
        },
        {
          "name": "stderr",
          "output_type": "stream",
          "text": [
            "/var/folders/px/x_b_92z578x2bzvgv8br00hm0000gn/T/ipykernel_30716/1455562103.py:4: FutureWarning: \n",
            "\n",
            "Passing `palette` without assigning `hue` is deprecated and will be removed in v0.14.0. Assign the `x` variable to `hue` and set `legend=False` for the same effect.\n",
            "\n",
            "  sns.barplot(x=range(len(coefficients)), y=coefficients, palette='viridis')\n"
          ]
        },
        {
          "data": {
            "text/plain": [
              "<Axes: >"
            ]
          },
          "execution_count": 39,
          "metadata": {},
          "output_type": "execute_result"
        },
        {
          "data": {
            "image/png": "[encoded data removed]",
            "text/plain": [
              "<Figure size 1200x800 with 1 Axes>"
            ]
          },
          "metadata": {},
          "output_type": "display_data"
        }
      ],
      "source": [
        "coefficients = lasso_regressor.coef_\n",
        "print(coefficients)\n",
        "plt.figure(figsize=(12, 8))\n",
        "sns.barplot(x=range(len(coefficients)), y=coefficients, palette='viridis')"
      ]
    },
    {
      "cell_type": "markdown",
      "metadata": {
        "id": "mI3QuD8Wydqc"
      },
      "source": [
        "1- What observations can you make about the weight distribution when applying L1 regularization?\n",
        "\n",
        "2- How do different values of the regularization parameter (alpha) affect the sparsity of the model coefficients?"
      ]
    },
    {
      "cell_type": "markdown",
      "metadata": {
        "id": "RREHXw6dydzd"
      },
      "source": [
        "    Your Answer Goes here.\n",
        "\n",
        "1- کلا خاصیت ال وان اینه فقط فیچرهای مناسب انتخاب بشن به همین دلیل اکثز فیچرها صفر میشن\n",
        "\n",
        "2- وقتی الفا زیاد میشه ضریبهای بیشتری صفر میشن،\n",
        "وقتی الفا کم یشه ضریبهای کمتری صفر میشن"
      ]
    },
    {
      "cell_type": "markdown",
      "metadata": {
        "id": "VWHqbCktz2OD"
      },
      "source": [
        "Get the score value on train *dataset*\n"
      ]
    },
    {
      "cell_type": "code",
      "execution_count": 40,
      "metadata": {
        "colab": {
          "base_uri": "https://localhost:8080/"
        },
        "id": "RbHNlgfTz2WI",
        "outputId": "1ceef91c-c952-4d4b-9270-a539410cc97f"
      },
      "outputs": [
        {
          "name": "stdout",
          "output_type": "stream",
          "text": [
            "R² score: 0.8171286694481938\n",
            "Mean Squared Error: 15.88665494849732\n"
          ]
        }
      ],
      "source": [
        "# TODO: Calculate R² score and MSE on the training dataset\n",
        "y_train_pred_lasso = lasso_regressor.predict(X_train)\n",
        "r2_train_lasso = r2_score(y_train, y_train_pred_lasso)\n",
        "mse_train_lasso = mean_squared_error(y_train, y_train_pred_lasso)\n",
        "\n",
        "print(\"R² score:\", r2_train_lasso)\n",
        "print(\"Mean Squared Error:\", mse_train_lasso)"
      ]
    },
    {
      "cell_type": "markdown",
      "metadata": {
        "id": "hjI1nMXVz2f2"
      },
      "source": [
        "Predict the value of \"y\" for each \"x\" belonging to the \"testing\" set"
      ]
    },
    {
      "cell_type": "code",
      "execution_count": 41,
      "metadata": {
        "id": "KfOWH0oQz2mY"
      },
      "outputs": [
        {
          "data": {
            "text/plain": [
              "array([25.01553605, 32.02170508, 16.56431707, 23.67545781, 17.13464034,\n",
              "       21.69118954, 18.08272601, 14.79576716, 20.40693987, 19.6387817 ,\n",
              "       21.53217387, 19.92343501,  6.64235117, 21.28994714, 19.61841959,\n",
              "       22.15653103, 18.10047426, 11.57157362, 42.41465504, 16.42067495,\n",
              "       21.39943226, 25.60136064, 15.78693485, 22.04815612, 17.9021186 ,\n",
              "       17.00238679, 19.88982538, 13.39822411, 21.17351703, 19.18396855,\n",
              "       18.45930572, 24.45954182, 22.28497567, 22.26103013, 14.87175003,\n",
              "       17.51351063, 32.12600448, 20.57590791, 22.56516819, 20.96313305,\n",
              "       15.55620789, 27.56743981, 44.34319575, 18.69292057, 24.52131935,\n",
              "       17.12080258, 16.94276939, 24.60012608, 18.02835641, 28.77188928,\n",
              "       21.29219328, 31.99034286, 17.89886858, 25.3993675 , 39.45589001,\n",
              "       22.16073425, 17.33354312, 28.94005254, 23.43768009, 17.00480941,\n",
              "       24.78746672, 31.5308728 , 28.44268606, 19.11754198, 26.06453555,\n",
              "       17.74025689, 17.46661041, 24.07595784, 27.21904407, 12.41794401,\n",
              "       18.96854429, 25.30678507, 12.52088818, 21.93187535, 22.04846018,\n",
              "        8.76834845, 20.47808211, 41.66158441, 15.06191799, 13.48259615,\n",
              "       21.44899084, 12.04377305, 21.41888025, 13.33517454, 21.09970534,\n",
              "       29.74964082, 18.10571831, 24.96133183, 24.51130599, 19.7996216 ,\n",
              "       22.33310177, 10.22300224, 20.74225997, 19.942328  , 33.26834975,\n",
              "       21.54646686, 22.90863042,  7.80871909, 13.38402503, 12.52417522,\n",
              "       20.25376137, 23.3348229 ])"
            ]
          },
          "execution_count": 41,
          "metadata": {},
          "output_type": "execute_result"
        }
      ],
      "source": [
        "y_test_pred_lasso = lasso_regressor.predict(X_test)\n",
        "y_test_pred_lasso"
      ]
    },
    {
      "cell_type": "markdown",
      "metadata": {
        "id": "XHpNCGELFZsu"
      },
      "source": [
        "# Ridge Regularization(L2)"
      ]
    },
    {
      "cell_type": "markdown",
      "metadata": {
        "id": "qsVvbx5vy3LP"
      },
      "source": [
        "L2 regularization, also known as Ridge regularization, is a technique used in regression models to prevent overfitting by adding a penalty equivalent to the square of the magnitude of coefficients to the loss function.\n",
        "</br>\n",
        "Train a regression model using L2 regularization."
      ]
    },
    {
      "cell_type": "code",
      "execution_count": 43,
      "metadata": {
        "colab": {
          "base_uri": "https://localhost:8080/",
          "height": 75
        },
        "id": "ww93tqpWwq99",
        "outputId": "951a597a-5bd0-44bd-bdb3-9660207445d5"
      },
      "outputs": [
        {
          "name": "stdout",
          "output_type": "stream",
          "text": [
            "R² score: 0.793955306875648\n",
            "Mean Squared Error: 15.110036846916515\n"
          ]
        }
      ],
      "source": [
        "# TODO: Use Ridge from sklearn library\n",
        "ridge_regressor = Ridge(alpha=10)\n",
        "ridge_regressor.fit(X_train, y_train)\n",
        "y_test_pred_ridge = ridge_regressor.predict(X_test)\n",
        "r2_test_ridge = r2_score(y_test, y_test_pred_ridge)\n",
        "mse_test_ridge = mean_squared_error(y_test, y_test_pred_ridge)\n",
        "print(\"R² score:\", r2_test_ridge)\n",
        "print(\"Mean Squared Error:\", mse_test_ridge)"
      ]
    },
    {
      "cell_type": "markdown",
      "metadata": {
        "id": "EwXQdOdQ0c4y"
      },
      "source": [
        "Get the coefficients of the variables and visualize it."
      ]
    },
    {
      "cell_type": "code",
      "execution_count": 45,
      "metadata": {
        "colab": {
          "base_uri": "https://localhost:8080/",
          "height": 748
        },
        "id": "CmVqcA6r0dEe",
        "outputId": "f4fc8fc8-c6a0-4b3a-d20d-3f26bed94025"
      },
      "outputs": [
        {
          "name": "stdout",
          "output_type": "stream",
          "text": [
            "[ 0.          0.05912156  0.51116396 -0.28467561 -0.32455353 -0.85827735\n",
            "  3.30888276 -1.15903729 -1.59593251 -0.53180157 -0.91042787  0.42828162\n",
            " -2.94077889  0.16087076 -0.2517118   0.62754054  1.60530016 -1.09008989\n",
            "  0.19857273 -0.21466179  0.91315274 -0.33329639 -0.37069977 -0.0685445\n",
            "  0.53227529  0.13451302  0.04174477  0.21402759 -0.19753069 -0.13818418\n",
            "  0.11128147 -0.41118718  0.69356948 -0.05349153 -0.33153368 -0.6523907\n",
            "  0.65774546  0.00626011  0.17510478  0.56882038  0.84405893  0.75253857\n",
            " -0.01735362 -0.74138428  0.38541275 -0.84892644  0.44774634 -0.95605317\n",
            " -0.87633987 -0.11780543 -0.84245313  0.77371237 -0.05986682 -0.05282303\n",
            " -0.5612907  -0.35054369 -1.10824908 -0.28920456  0.95796985  0.161939\n",
            " -0.72743981 -0.23024552  0.59678367  0.61007814 -0.35547651  0.25507285\n",
            " -1.39082276 -1.30777268 -0.34506817  0.43935663  0.18768566  0.33640313\n",
            "  0.12071674  0.17082987 -0.88889616 -0.93434533  1.1011708  -0.55229718\n",
            " -0.01954442 -0.25679014  0.78714857  0.62433033  1.95275298 -0.76210143\n",
            " -1.82196645 -0.39640046  0.20411156 -0.0280015  -0.3462849   0.03535942\n",
            "  1.27443078]\n"
          ]
        },
        {
          "name": "stderr",
          "output_type": "stream",
          "text": [
            "/var/folders/px/x_b_92z578x2bzvgv8br00hm0000gn/T/ipykernel_30716/746441317.py:4: FutureWarning: \n",
            "\n",
            "Passing `palette` without assigning `hue` is deprecated and will be removed in v0.14.0. Assign the `x` variable to `hue` and set `legend=False` for the same effect.\n",
            "\n",
            "  sns.barplot(x=range(len(coefficients)), y=coefficients, palette='viridis')\n"
          ]
        },
        {
          "data": {
            "text/plain": [
              "<Axes: >"
            ]
          },
          "execution_count": 45,
          "metadata": {},
          "output_type": "execute_result"
        },
        {
          "data": {
            "image/png": "[encoded data removed]",
            "text/plain": [
              "<Figure size 1200x800 with 1 Axes>"
            ]
          },
          "metadata": {},
          "output_type": "display_data"
        }
      ],
      "source": [
        "coefficients = ridge_regressor.coef_\n",
        "print(coefficients)\n",
        "plt.figure(figsize=(12, 8))\n",
        "sns.barplot(x=range(len(coefficients)), y=coefficients, palette='viridis')"
      ]
    },
    {
      "cell_type": "markdown",
      "metadata": {
        "id": "uc_LYcVZ0dOQ"
      },
      "source": [
        "Compare the effect on coefficients between L1 and L2 regularization. What are the key differences?\n",
        "\n",
        " How does the regularization parameter influence the magnitude of the coefficients in Ridge Regression?"
      ]
    },
    {
      "cell_type": "markdown",
      "metadata": {
        "id": "vz3VZj1H1E5D"
      },
      "source": [
        "        Your answer goes here\n",
        "ال وان ضریب هارو میبرهبه نزیکیه صفر میبره و چه بسا حتی صفر میکنه تا فیچرهای نامهم حذف بشوند\n",
        "\n",
        "ال دو یه مقدار ثابتی از همه کم میکنه و ملایمتر مدل رو میستزه"
      ]
    },
    {
      "cell_type": "markdown",
      "metadata": {
        "id": "8-vwV52g1KaB"
      },
      "source": [
        "Get the score value on train *dataset*"
      ]
    },
    {
      "cell_type": "code",
      "execution_count": 46,
      "metadata": {
        "colab": {
          "base_uri": "https://localhost:8080/"
        },
        "id": "WgrPqaBF0dlc",
        "outputId": "4dcafe8e-e0f0-4127-af17-c691f398226d"
      },
      "outputs": [
        {
          "name": "stdout",
          "output_type": "stream",
          "text": [
            "R² score: 0.9143940529441623\n",
            "Mean Squared Error: 7.436880009084566\n"
          ]
        }
      ],
      "source": [
        "# TODO: Calculate R² score and MSE on the training dataset\n",
        "y_train_pred_ridge = ridge_regressor.predict(X_train)\n",
        "r2_train_ridge = r2_score(y_train, y_train_pred_ridge)\n",
        "mse_train_ridge = mean_squared_error(y_train, y_train_pred_ridge)\n",
        "print(\"R² score:\", r2_train_ridge)\n",
        "print(\"Mean Squared Error:\", mse_train_ridge)"
      ]
    },
    {
      "cell_type": "markdown",
      "metadata": {
        "id": "94nftWCR0dtC"
      },
      "source": [
        "Predict the value of \"y\" for each \"x\" belonging to the \"testing\" set\n",
        "\n"
      ]
    },
    {
      "cell_type": "code",
      "execution_count": 47,
      "metadata": {
        "id": "ivsbD08X0d1E"
      },
      "outputs": [
        {
          "data": {
            "text/plain": [
              "array([26.64874045, 37.58387034, 19.27657644, 21.94197185, 15.3028101 ,\n",
              "       20.12028532, 19.06550135, 13.09220054, 21.53629599, 19.59853597,\n",
              "       19.98066811, 17.71773856,  7.45618135, 19.4698435 , 17.83085991,\n",
              "       22.41342776, 19.03460611, 10.83733093, 47.87734976, 13.23733086,\n",
              "       25.94978663, 28.67626209, 15.62739061, 20.87266644, 16.88618107,\n",
              "       16.70243714, 18.15202381, 12.99400863, 19.06044753, 19.1619615 ,\n",
              "       18.49185044, 23.96483655, 16.81029968, 24.22140047, 14.71608764,\n",
              "       17.14764076, 33.00621736, 20.36005585, 21.56765845, 22.00579786,\n",
              "       16.87716829, 30.83029389, 52.86535583, 16.40416721, 26.70438602,\n",
              "       16.00962769, 15.37456958, 24.22203195, 18.0413712 , 28.35774744,\n",
              "       18.65466298, 33.07812494, 17.01116837, 25.34703163, 43.22198358,\n",
              "       23.00525594, 14.66623572, 32.34427145, 25.00498764, 14.21572885,\n",
              "       24.95594853, 33.4162596 , 30.78344757, 16.16942493, 25.19231399,\n",
              "       16.02456508, 14.58662856, 24.41159615, 30.32473275, 12.3838725 ,\n",
              "       20.94435871, 27.5999913 , 10.37505112, 21.25995733, 20.86051995,\n",
              "        5.76335445, 20.67914828, 49.65506758, 11.15867412, 13.79119622,\n",
              "       19.12026295, 12.02135127, 17.93987097, 11.65923594, 20.4384127 ,\n",
              "       28.76781807, 17.1877647 , 24.60422767, 25.97635678, 17.98141095,\n",
              "       24.09206253,  7.78768441, 19.1087218 , 18.44960327, 40.68183317,\n",
              "       20.20242572, 24.78475146,  5.72169792, 11.11141082, 13.76203915,\n",
              "       22.7065681 , 21.98512667])"
            ]
          },
          "execution_count": 47,
          "metadata": {},
          "output_type": "execute_result"
        }
      ],
      "source": [
        "y_test_pred_ridge = ridge_regressor.predict(X_test)\n",
        "y_test_pred_ridge"
      ]
    },
    {
      "cell_type": "markdown",
      "metadata": {
        "id": "u6iKDyiwF-2q"
      },
      "source": [
        "# Summarization"
      ]
    },
    {
      "cell_type": "markdown",
      "metadata": {
        "id": "gY7NOCfB0d9K"
      },
      "source": [
        "Summarize the performance metrics (e.g., RMSE, R² score) of the basic regression model, Lasso regression, and Ridge regression in a table for easy comparison.(On both test and train data)</br>\n",
        "if you are not familiar with R-squared concept see the link below:\n",
        "[R-squared](https://statisticsbyjim.com/regression/interpret-r-squared-regression/)\n"
      ]
    },
    {
      "cell_type": "code",
      "execution_count": 52,
      "metadata": {
        "colab": {
          "base_uri": "https://localhost:8080/"
        },
        "id": "3gI-6r2r0eEx",
        "outputId": "1a052c95-aa03-48a7-86f7-86b9fed0617f"
      },
      "outputs": [
        {
          "name": "stdout",
          "output_type": "stream",
          "text": [
            "              Model  Test RMSE  Train RMSE   Test R²  Train R²\n",
            "0  Basic Regression   4.257003    2.580279  0.752882  0.923362\n",
            "1  Lasso Regression   4.028328    3.985807  0.778718  0.817129\n",
            "2  Ridge Regression   3.887163    2.727064  0.793955  0.914394\n"
          ]
        }
      ],
      "source": [
        "basic_train_rmse = mean_squared_error(y_train, y_train_pred)**0.5\n",
        "basic_train_r2 = r2_score(y_train, y_train_pred)\n",
        "basic_test_rmse = mean_squared_error(y_test, y_test_pred)**0.5\n",
        "basic_test_r2 = r2_score(y_test, y_test_pred)\n",
        "\n",
        "lasso_train_rmse = mean_squared_error(y_train, y_train_pred_lasso)**0.5\n",
        "lasso_train_r2 = r2_score(y_train, y_train_pred_lasso)\n",
        "lasso_test_rmse = mean_squared_error(y_test, y_test_pred_lasso)**0.5\n",
        "lasso_test_r2 = r2_score(y_test, y_test_pred_lasso)\n",
        "\n",
        "ridge_train_rmse = mean_squared_error(y_train, y_train_pred_ridge)**0.5\n",
        "ridge_train_r2 = r2_score(y_train, y_train_pred_ridge)\n",
        "ridge_test_rmse = mean_squared_error(y_test, y_test_pred_ridge)**0.5\n",
        "ridge_test_r2 = r2_score(y_test, y_test_pred_ridge)\n",
        "\n",
        "data = {\n",
        "    'Model': ['Basic Regression', 'Lasso Regression', 'Ridge Regression'],\n",
        "    'Test RMSE': [basic_test_rmse, lasso_test_rmse, ridge_test_rmse],\n",
        "    'Train RMSE': [basic_train_rmse, lasso_train_rmse, ridge_train_rmse],\n",
        "    'Test R²': [basic_test_r2, lasso_test_r2, ridge_test_r2],\n",
        "    'Train R²': [basic_train_r2, lasso_train_r2, ridge_train_r2],\n",
        "}\n",
        "\n",
        "performance_df = pd.DataFrame(data)\n",
        "print(performance_df)"
      ]
    },
    {
      "cell_type": "markdown",
      "metadata": {},
      "source": [
        "البته شما تو فایل خودتون ام-اس-ایی حساب کردید ولی اینجا گفته بودید ار-ام-اس-ای حساب کنیم"
      ]
    },
    {
      "cell_type": "markdown",
      "metadata": {
        "id": "dB2x-l231Soo"
      },
      "source": [
        " *Which model performed best on the test data?</br>\n",
        "Why the results on train data are different? </br>\n",
        "Discuss why this might be the case.*"
      ]
    },
    {
      "cell_type": "markdown",
      "metadata": {
        "id": "dRIs24F91SsH"
      },
      "source": [
        "          your answer goes here.\n",
        "ال دو بهتره چون ار-ام-اس-ای کمتری داره و ار۲ بهتری داره"
      ]
    },
    {
      "cell_type": "markdown",
      "metadata": {},
      "source": []
    }
  ],
  "metadata": {
    "colab": {
      "gpuType": "T4",
      "provenance": []
    },
    "kernelspec": {
      "display_name": "Python 3",
      "name": "python3"
    },
    "language_info": {
      "codemirror_mode": {
        "name": "ipython",
        "version": 3
      },
      "file_extension": ".py",
      "mimetype": "text/x-python",
      "name": "python",
      "nbconvert_exporter": "python",
      "pygments_lexer": "ipython3",
      "version": "3.12.2"
    }
  },
  "nbformat": 4,
  "nbformat_minor": 0
}
